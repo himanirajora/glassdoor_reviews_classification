{
 "cells": [
  {
   "cell_type": "code",
   "execution_count": 1,
   "metadata": {},
   "outputs": [
    {
     "name": "stderr",
     "output_type": "stream",
     "text": [
      "Using TensorFlow backend.\n"
     ]
    }
   ],
   "source": [
    "import pandas as pd\n",
    "import numpy as np\n",
    "import pickle as pkl\n",
    "import seaborn as sns\n",
    "import matplotlib.pyplot as plt\n",
    "%matplotlib inline\n",
    "\n",
    "from keras.models import Sequential, Model\n",
    "from keras.layers import Dense, Dropout, Activation, Flatten, Embedding\n",
    "from keras.layers import Conv1D, GlobalMaxPooling1D, LSTM, MaxPooling1D\n",
    "from keras.layers.wrappers import TimeDistributed\n",
    "from keras.preprocessing.sequence import pad_sequences\n",
    "from keras.preprocessing.text import Tokenizer\n",
    "from keras.preprocessing import sequence\n",
    "from keras.utils import to_categorical\n",
    "from keras.wrappers.scikit_learn import KerasClassifier\n",
    "from sklearn.preprocessing import LabelEncoder\n",
    "from sklearn.model_selection import GridSearchCV, train_test_split\n",
    "from keras import metrics"
   ]
  },
  {
   "cell_type": "code",
   "execution_count": 2,
   "metadata": {},
   "outputs": [
    {
     "data": {
      "text/html": [
       "<div>\n",
       "<style scoped>\n",
       "    .dataframe tbody tr th:only-of-type {\n",
       "        vertical-align: middle;\n",
       "    }\n",
       "\n",
       "    .dataframe tbody tr th {\n",
       "        vertical-align: top;\n",
       "    }\n",
       "\n",
       "    .dataframe thead th {\n",
       "        text-align: right;\n",
       "    }\n",
       "</style>\n",
       "<table border=\"1\" class=\"dataframe\">\n",
       "  <thead>\n",
       "    <tr style=\"text-align: right;\">\n",
       "      <th></th>\n",
       "      <th>label</th>\n",
       "      <th>pp_sent</th>\n",
       "    </tr>\n",
       "  </thead>\n",
       "  <tbody>\n",
       "    <tr>\n",
       "      <th>52599</th>\n",
       "      <td>Job Security/Advancement</td>\n",
       "      <td>good opportunities for career growth</td>\n",
       "    </tr>\n",
       "    <tr>\n",
       "      <th>69969</th>\n",
       "      <td>tech_product</td>\n",
       "      <td>no ego problem solving is mandatory across the...</td>\n",
       "    </tr>\n",
       "    <tr>\n",
       "      <th>101786</th>\n",
       "      <td>tech_product</td>\n",
       "      <td>schibsted has a broad tech stack</td>\n",
       "    </tr>\n",
       "    <tr>\n",
       "      <th>6968</th>\n",
       "      <td>culture_team</td>\n",
       "      <td>a self starter</td>\n",
       "    </tr>\n",
       "    <tr>\n",
       "      <th>1393294</th>\n",
       "      <td>haras_discrim_sexism</td>\n",
       "      <td>a great deal of effort has gone into gender di...</td>\n",
       "    </tr>\n",
       "    <tr>\n",
       "      <th>48187</th>\n",
       "      <td>wlb_working_conditions</td>\n",
       "      <td>work life balance is generally good</td>\n",
       "    </tr>\n",
       "    <tr>\n",
       "      <th>86026</th>\n",
       "      <td>tech_product</td>\n",
       "      <td>type of problems to be solved are unlike anyth...</td>\n",
       "    </tr>\n",
       "  </tbody>\n",
       "</table>\n",
       "</div>"
      ],
      "text/plain": [
       "                            label  \\\n",
       "52599    Job Security/Advancement   \n",
       "69969                tech_product   \n",
       "101786               tech_product   \n",
       "6968                 culture_team   \n",
       "1393294      haras_discrim_sexism   \n",
       "48187      wlb_working_conditions   \n",
       "86026                tech_product   \n",
       "\n",
       "                                                   pp_sent  \n",
       "52599                 good opportunities for career growth  \n",
       "69969    no ego problem solving is mandatory across the...  \n",
       "101786                    schibsted has a broad tech stack  \n",
       "6968                                        a self starter  \n",
       "1393294  a great deal of effort has gone into gender di...  \n",
       "48187                  work life balance is generally good  \n",
       "86026    type of problems to be solved are unlike anyth...  "
      ]
     },
     "execution_count": 2,
     "metadata": {},
     "output_type": "execute_result"
    }
   ],
   "source": [
    "raw_data = pkl.load(open(\"gdr_assignment_labelled.pkl\",\"rb\"))\n",
    "\n",
    "## un-list the label column\n",
    "\n",
    "raw_data['label'] = raw_data['label'].apply(lambda x: x[0])\n",
    "raw_data.sample(7)"
   ]
  },
  {
   "cell_type": "code",
   "execution_count": 3,
   "metadata": {},
   "outputs": [
    {
     "name": "stdout",
     "output_type": "stream",
     "text": [
      "(8000, 2)\n",
      "Job Security/Advancement       1113\n",
      "management                     1039\n",
      "salary_benefits                1018\n",
      "culture_team                   1010\n",
      "haras_discrim_sexism           1001\n",
      "wlb_working_conditions          997\n",
      "tech_product                    983\n",
      "business_vision_competitors     839\n",
      "Name: label, dtype: int64\n"
     ]
    },
    {
     "data": {
      "text/plain": [
       "Text(0.5,1,'Distribution of label class in raw dataset')"
      ]
     },
     "execution_count": 3,
     "metadata": {},
     "output_type": "execute_result"
    },
    {
     "data": {
      "image/png": "[encoded data removed]",
      "text/plain": [
       "<matplotlib.figure.Figure at 0x1166f4c50>"
      ]
     },
     "metadata": {},
     "output_type": "display_data"
    }
   ],
   "source": [
    "## shape of training data\n",
    "print(raw_data.shape)\n",
    "\n",
    "## count of labels in dataset\n",
    "\n",
    "print(raw_data['label'].value_counts())\n",
    "\n",
    "### distribution of labels in training set\n",
    "\n",
    "sns.set_color_codes()\n",
    "\n",
    "fig, ax1 = plt.subplots(1,1, figsize = (18,6))\n",
    "\n",
    "sns.countplot('label', data = raw_data,palette=\"Set2\", ax = ax1)\n",
    "ax1.set_xlabel(\"label\", size = 15)\n",
    "plt.title(\"Distribution of label class in raw dataset\", size = 18)"
   ]
  },
  {
   "cell_type": "code",
   "execution_count": 4,
   "metadata": {},
   "outputs": [
    {
     "name": "stdout",
     "output_type": "stream",
     "text": [
      "44\n"
     ]
    }
   ],
   "source": [
    "## check max length of sequence in pp_sent\n",
    "print(max(raw_data['pp_sent'].apply(lambda x: len(x.split()))))"
   ]
  },
  {
   "cell_type": "markdown",
   "metadata": {},
   "source": [
    "## Pre- process data\n",
    "\n",
    "- convert labels to one-hot vectors\n",
    "- convert pp_sent to numerical form and pad sequences"
   ]
  },
  {
   "cell_type": "code",
   "execution_count": 3,
   "metadata": {},
   "outputs": [
    {
     "name": "stdout",
     "output_type": "stream",
     "text": [
      "vocab size: 3797\n",
      "padded_docs: 8000\n"
     ]
    }
   ],
   "source": [
    "## process labels- label encoding\n",
    "le = LabelEncoder()\n",
    "labels_int = le.fit_transform(raw_data['label'].values)\n",
    "labels = to_categorical(labels_int)\n",
    "\n",
    "### prepare tokenizer\n",
    "\n",
    "t = Tokenizer()\n",
    "t.fit_on_texts(raw_data['pp_sent'].values)\n",
    "vocab_size = len(t.word_index) + 1\n",
    "print(\"vocab size:\",vocab_size)\n",
    "\n",
    "# integer encode the documents\n",
    "encoded_docs = t.texts_to_sequences(raw_data['pp_sent'].values)\n",
    "# pad documents to a max length of 44 words\n",
    "max_length = 44\n",
    "padded_docs = pad_sequences(encoded_docs, maxlen=max_length, padding='post')\n",
    "print(\"padded_docs:\",len(padded_docs))"
   ]
  },
  {
   "cell_type": "markdown",
   "metadata": {},
   "source": [
    "## Model 1- sequential model with convolution\n",
    "\n",
    "- Here we also learn embedding layer weights based on training data\n",
    "- Multi- class classification with 8 categories"
   ]
  },
  {
   "cell_type": "code",
   "execution_count": 14,
   "metadata": {},
   "outputs": [
    {
     "name": "stdout",
     "output_type": "stream",
     "text": [
      "_________________________________________________________________\n",
      "Layer (type)                 Output Shape              Param #   \n",
      "=================================================================\n",
      "embedding_7 (Embedding)      (None, 44, 10)            37970     \n",
      "_________________________________________________________________\n",
      "dropout_13 (Dropout)         (None, 44, 10)            0         \n",
      "_________________________________________________________________\n",
      "conv1d_7 (Conv1D)            (None, 42, 64)            1984      \n",
      "_________________________________________________________________\n",
      "global_max_pooling1d_6 (Glob (None, 64)                0         \n",
      "_________________________________________________________________\n",
      "dense_13 (Dense)             (None, 256)               16640     \n",
      "_________________________________________________________________\n",
      "dropout_14 (Dropout)         (None, 256)               0         \n",
      "_________________________________________________________________\n",
      "activation_13 (Activation)   (None, 256)               0         \n",
      "_________________________________________________________________\n",
      "dense_14 (Dense)             (None, 8)                 2056      \n",
      "_________________________________________________________________\n",
      "activation_14 (Activation)   (None, 8)                 0         \n",
      "=================================================================\n",
      "Total params: 58,650\n",
      "Trainable params: 58,650\n",
      "Non-trainable params: 0\n",
      "_________________________________________________________________\n",
      "None\n",
      "Train on 6400 samples, validate on 1600 samples\n",
      "Epoch 1/50\n",
      "6400/6400 [==============================] - 4s 674us/step - loss: 1.0314 - acc: 0.6473 - val_loss: 0.3034 - val_acc: 0.9156\n",
      "Epoch 2/50\n",
      "6400/6400 [==============================] - 4s 566us/step - loss: 0.1791 - acc: 0.9483 - val_loss: 0.1633 - val_acc: 0.9562\n",
      "Epoch 3/50\n",
      "6400/6400 [==============================] - 4s 565us/step - loss: 0.0894 - acc: 0.9742 - val_loss: 0.1444 - val_acc: 0.9619\n",
      "Epoch 4/50\n",
      "6400/6400 [==============================] - 4s 598us/step - loss: 0.0565 - acc: 0.9830 - val_loss: 0.1441 - val_acc: 0.9656\n",
      "Epoch 5/50\n",
      "6400/6400 [==============================] - 4s 556us/step - loss: 0.0389 - acc: 0.9884 - val_loss: 0.1567 - val_acc: 0.9606\n",
      "Epoch 6/50\n",
      "6400/6400 [==============================] - 4s 557us/step - loss: 0.0305 - acc: 0.9906 - val_loss: 0.1445 - val_acc: 0.9612\n",
      "Epoch 7/50\n",
      "6400/6400 [==============================] - 4s 561us/step - loss: 0.0275 - acc: 0.9928 - val_loss: 0.1547 - val_acc: 0.9650\n",
      "Epoch 8/50\n",
      "6400/6400 [==============================] - 4s 565us/step - loss: 0.0240 - acc: 0.9933 - val_loss: 0.1641 - val_acc: 0.9637\n",
      "Epoch 9/50\n",
      "6400/6400 [==============================] - 4s 565us/step - loss: 0.0216 - acc: 0.9936 - val_loss: 0.1500 - val_acc: 0.9669\n",
      "Epoch 10/50\n",
      "6400/6400 [==============================] - 4s 563us/step - loss: 0.0206 - acc: 0.9928 - val_loss: 0.1418 - val_acc: 0.9662\n",
      "Epoch 11/50\n",
      "6400/6400 [==============================] - 4s 568us/step - loss: 0.0175 - acc: 0.9942 - val_loss: 0.1632 - val_acc: 0.9662\n",
      "Epoch 12/50\n",
      "6400/6400 [==============================] - 4s 628us/step - loss: 0.0179 - acc: 0.9944 - val_loss: 0.1802 - val_acc: 0.9637\n",
      "Epoch 13/50\n",
      "6400/6400 [==============================] - 4s 577us/step - loss: 0.0134 - acc: 0.9961 - val_loss: 0.1654 - val_acc: 0.9637\n",
      "Epoch 14/50\n",
      "6400/6400 [==============================] - 4s 587us/step - loss: 0.0125 - acc: 0.9956 - val_loss: 0.1599 - val_acc: 0.9681\n",
      "Epoch 15/50\n",
      "6400/6400 [==============================] - 4s 569us/step - loss: 0.0153 - acc: 0.9950 - val_loss: 0.1686 - val_acc: 0.9681\n",
      "Epoch 16/50\n",
      "6400/6400 [==============================] - 4s 573us/step - loss: 0.0191 - acc: 0.9942 - val_loss: 0.1448 - val_acc: 0.9725\n",
      "Epoch 17/50\n",
      "6400/6400 [==============================] - 4s 574us/step - loss: 0.0101 - acc: 0.9970 - val_loss: 0.1602 - val_acc: 0.9719\n",
      "Epoch 18/50\n",
      "6400/6400 [==============================] - 4s 622us/step - loss: 0.0144 - acc: 0.9959 - val_loss: 0.1552 - val_acc: 0.9675\n",
      "Epoch 19/50\n",
      "6400/6400 [==============================] - 4s 584us/step - loss: 0.0105 - acc: 0.9962 - val_loss: 0.1595 - val_acc: 0.9744\n",
      "Epoch 20/50\n",
      "6400/6400 [==============================] - 4s 583us/step - loss: 0.0110 - acc: 0.9961 - val_loss: 0.1747 - val_acc: 0.9687\n",
      "Epoch 21/50\n",
      "6400/6400 [==============================] - 4s 685us/step - loss: 0.0173 - acc: 0.9959 - val_loss: 0.1664 - val_acc: 0.9719\n",
      "Epoch 22/50\n",
      "6400/6400 [==============================] - 4s 610us/step - loss: 0.0116 - acc: 0.9964 - val_loss: 0.1531 - val_acc: 0.9694\n",
      "Epoch 23/50\n",
      "6400/6400 [==============================] - 5s 783us/step - loss: 0.0096 - acc: 0.9972 - val_loss: 0.1611 - val_acc: 0.9719\n",
      "Epoch 24/50\n",
      "6400/6400 [==============================] - 4s 596us/step - loss: 0.0116 - acc: 0.9966 - val_loss: 0.1576 - val_acc: 0.9719\n",
      "Epoch 25/50\n",
      "6400/6400 [==============================] - 4s 619us/step - loss: 0.0112 - acc: 0.9961 - val_loss: 0.1719 - val_acc: 0.9719\n",
      "Epoch 26/50\n",
      "6400/6400 [==============================] - 5s 758us/step - loss: 0.0134 - acc: 0.9955 - val_loss: 0.1672 - val_acc: 0.9687\n",
      "Epoch 27/50\n",
      "6400/6400 [==============================] - 4s 639us/step - loss: 0.0098 - acc: 0.9967 - val_loss: 0.1752 - val_acc: 0.9681\n",
      "Epoch 28/50\n",
      "6400/6400 [==============================] - 4s 622us/step - loss: 0.0073 - acc: 0.9980 - val_loss: 0.1895 - val_acc: 0.9694\n",
      "Epoch 29/50\n",
      "6400/6400 [==============================] - 4s 566us/step - loss: 0.0127 - acc: 0.9969 - val_loss: 0.1731 - val_acc: 0.9712\n",
      "Epoch 30/50\n",
      "6400/6400 [==============================] - 4s 568us/step - loss: 0.0126 - acc: 0.9964 - val_loss: 0.1692 - val_acc: 0.9700\n",
      "Epoch 31/50\n",
      "6400/6400 [==============================] - 4s 596us/step - loss: 0.0072 - acc: 0.9978 - val_loss: 0.1625 - val_acc: 0.9725\n",
      "Epoch 32/50\n",
      "6400/6400 [==============================] - 5s 774us/step - loss: 0.0094 - acc: 0.9972 - val_loss: 0.1725 - val_acc: 0.9706\n",
      "Epoch 33/50\n",
      "6400/6400 [==============================] - 5s 721us/step - loss: 0.0091 - acc: 0.9975 - val_loss: 0.1565 - val_acc: 0.9700\n",
      "Epoch 34/50\n",
      "6400/6400 [==============================] - 4s 623us/step - loss: 0.0095 - acc: 0.9964 - val_loss: 0.1814 - val_acc: 0.9687\n",
      "Epoch 35/50\n",
      "6400/6400 [==============================] - 4s 637us/step - loss: 0.0041 - acc: 0.9981 - val_loss: 0.1818 - val_acc: 0.9706\n",
      "Epoch 36/50\n",
      "6400/6400 [==============================] - 4s 651us/step - loss: 0.0058 - acc: 0.9983 - val_loss: 0.1908 - val_acc: 0.9712\n",
      "Epoch 37/50\n",
      "6400/6400 [==============================] - 4s 595us/step - loss: 0.0076 - acc: 0.9981 - val_loss: 0.1683 - val_acc: 0.9719\n",
      "Epoch 38/50\n",
      "6400/6400 [==============================] - 4s 599us/step - loss: 0.0061 - acc: 0.9978 - val_loss: 0.1867 - val_acc: 0.9719\n",
      "Epoch 39/50\n",
      "6400/6400 [==============================] - 4s 599us/step - loss: 0.0133 - acc: 0.9967 - val_loss: 0.1855 - val_acc: 0.9656\n",
      "Epoch 40/50\n",
      "6400/6400 [==============================] - 4s 630us/step - loss: 0.0111 - acc: 0.9967 - val_loss: 0.1937 - val_acc: 0.9687\n",
      "Epoch 41/50\n",
      "6400/6400 [==============================] - 4s 619us/step - loss: 0.0071 - acc: 0.9980 - val_loss: 0.1937 - val_acc: 0.9694\n",
      "Epoch 42/50\n",
      "6400/6400 [==============================] - 4s 626us/step - loss: 0.0102 - acc: 0.9977 - val_loss: 0.1853 - val_acc: 0.9700\n",
      "Epoch 43/50\n",
      "6400/6400 [==============================] - 4s 621us/step - loss: 0.0041 - acc: 0.9987 - val_loss: 0.1811 - val_acc: 0.9700\n",
      "Epoch 44/50\n",
      "6400/6400 [==============================] - 4s 645us/step - loss: 0.0067 - acc: 0.9981 - val_loss: 0.1989 - val_acc: 0.9694\n",
      "Epoch 45/50\n",
      "6400/6400 [==============================] - 4s 604us/step - loss: 0.0067 - acc: 0.9981 - val_loss: 0.1934 - val_acc: 0.9687\n",
      "Epoch 46/50\n",
      "6400/6400 [==============================] - 4s 593us/step - loss: 0.0078 - acc: 0.9977 - val_loss: 0.2001 - val_acc: 0.9681\n",
      "Epoch 47/50\n",
      "6400/6400 [==============================] - 4s 594us/step - loss: 0.0078 - acc: 0.9975 - val_loss: 0.1800 - val_acc: 0.9725\n",
      "Epoch 48/50\n",
      "6400/6400 [==============================] - 4s 667us/step - loss: 0.0067 - acc: 0.9981 - val_loss: 0.1591 - val_acc: 0.9750\n",
      "Epoch 49/50\n",
      "6400/6400 [==============================] - 4s 626us/step - loss: 0.0087 - acc: 0.9972 - val_loss: 0.1828 - val_acc: 0.9719\n",
      "Epoch 50/50\n",
      "6400/6400 [==============================] - 4s 680us/step - loss: 0.0072 - acc: 0.9987 - val_loss: 0.1935 - val_acc: 0.9737\n"
     ]
    },
    {
     "data": {
      "text/plain": [
       "<keras.callbacks.History at 0x11f5e7d30>"
      ]
     },
     "execution_count": 14,
     "metadata": {},
     "output_type": "execute_result"
    }
   ],
   "source": [
    "model1 = Sequential()\n",
    "model1.add(Embedding(vocab_size,10,input_length=max_length))\n",
    "model1.add(Dropout(0.2))\n",
    "model1.add(Conv1D(64,3,padding='valid',activation='relu',strides=1))\n",
    "model1.add(GlobalMaxPooling1D())\n",
    "model1.add(Dense(256))\n",
    "model1.add(Dropout(0.2))\n",
    "model1.add(Activation('relu'))\n",
    "model1.add(Dense(8))\n",
    "model1.add(Activation('softmax'))\n",
    "print(model1.summary())\n",
    "model1.compile(loss='categorical_crossentropy',optimizer='adam',metrics=['acc'])\n",
    "\n",
    "#train -test split- split into 80% for train and 20% for test\n",
    "X_train, X_test, y_train, y_test = train_test_split(padded_docs, labels, test_size=0.20,\n",
    "                                                    random_state=5678, stratify =labels)\n",
    "\n",
    "# fit the model\n",
    "model1.fit(X_train, y_train, epochs=50,batch_size = 10,validation_data=(X_test,y_test))\n",
    "\n",
    "# loss1, accuracy1 = model1.evaluate(padded_docs,labels, verbose=0)\n",
    "# print(\"Accuracy:\", accuracy1*100)"
   ]
  },
  {
   "cell_type": "markdown",
   "metadata": {},
   "source": [
    "## Model2 -  Using pre trained- Glove 50- D word embeddings"
   ]
  },
  {
   "cell_type": "code",
   "execution_count": 7,
   "metadata": {},
   "outputs": [
    {
     "name": "stdout",
     "output_type": "stream",
     "text": [
      "Loaded 400000 word vectors.\n",
      "(3797, 50)\n"
     ]
    }
   ],
   "source": [
    "# load the whole embedding into memory\n",
    "embeddings_index = dict()\n",
    "f = open('glove.6B.50d.txt')\n",
    "for line in f:\n",
    "    values = line.split()\n",
    "    word = values[0]\n",
    "    coefs = np.asarray(values[1:], dtype='float32')\n",
    "    embeddings_index[word] = coefs\n",
    "f.close()\n",
    "print('Loaded {0} word vectors.'.format(len(embeddings_index)))\n",
    "\n",
    "# create a weight matrix for words in training docs\n",
    "embedding_matrix = np.zeros((vocab_size, 50))\n",
    "for word, i in t.word_index.items():\n",
    "    embedding_vector = embeddings_index.get(word)\n",
    "    if embedding_vector is not None:\n",
    "        embedding_matrix[i] = embedding_vector\n",
    "\n",
    "print(embedding_matrix.shape)"
   ]
  },
  {
   "cell_type": "code",
   "execution_count": 13,
   "metadata": {},
   "outputs": [
    {
     "name": "stdout",
     "output_type": "stream",
     "text": [
      "_________________________________________________________________\n",
      "Layer (type)                 Output Shape              Param #   \n",
      "=================================================================\n",
      "embedding_6 (Embedding)      (None, 44, 50)            189850    \n",
      "_________________________________________________________________\n",
      "dropout_11 (Dropout)         (None, 44, 50)            0         \n",
      "_________________________________________________________________\n",
      "conv1d_6 (Conv1D)            (None, 42, 64)            9664      \n",
      "_________________________________________________________________\n",
      "global_max_pooling1d_5 (Glob (None, 64)                0         \n",
      "_________________________________________________________________\n",
      "dense_11 (Dense)             (None, 256)               16640     \n",
      "_________________________________________________________________\n",
      "dropout_12 (Dropout)         (None, 256)               0         \n",
      "_________________________________________________________________\n",
      "activation_11 (Activation)   (None, 256)               0         \n",
      "_________________________________________________________________\n",
      "dense_12 (Dense)             (None, 8)                 2056      \n",
      "_________________________________________________________________\n",
      "activation_12 (Activation)   (None, 8)                 0         \n",
      "=================================================================\n",
      "Total params: 218,210\n",
      "Trainable params: 28,360\n",
      "Non-trainable params: 189,850\n",
      "_________________________________________________________________\n",
      "None\n",
      "Train on 6400 samples, validate on 1600 samples\n",
      "Epoch 1/50\n",
      "6400/6400 [==============================] - 3s 514us/step - loss: 0.9541 - acc: 0.6836 - val_loss: 0.4902 - val_acc: 0.8362\n",
      "Epoch 2/50\n",
      "6400/6400 [==============================] - 3s 423us/step - loss: 0.4721 - acc: 0.8486 - val_loss: 0.3609 - val_acc: 0.8869\n",
      "Epoch 3/50\n",
      "6400/6400 [==============================] - 3s 419us/step - loss: 0.3666 - acc: 0.8802 - val_loss: 0.2984 - val_acc: 0.9062\n",
      "Epoch 4/50\n",
      "6400/6400 [==============================] - 3s 425us/step - loss: 0.2863 - acc: 0.9069 - val_loss: 0.2541 - val_acc: 0.9156\n",
      "Epoch 5/50\n",
      "6400/6400 [==============================] - 3s 425us/step - loss: 0.2482 - acc: 0.9233 - val_loss: 0.2335 - val_acc: 0.9231\n",
      "Epoch 6/50\n",
      "6400/6400 [==============================] - 3s 426us/step - loss: 0.2180 - acc: 0.9298 - val_loss: 0.2225 - val_acc: 0.9300\n",
      "Epoch 7/50\n",
      "6400/6400 [==============================] - 3s 427us/step - loss: 0.2009 - acc: 0.9339 - val_loss: 0.1968 - val_acc: 0.9356\n",
      "Epoch 8/50\n",
      "6400/6400 [==============================] - 3s 485us/step - loss: 0.1709 - acc: 0.9420 - val_loss: 0.2352 - val_acc: 0.9262\n",
      "Epoch 9/50\n",
      "6400/6400 [==============================] - 3s 425us/step - loss: 0.1615 - acc: 0.9469 - val_loss: 0.2169 - val_acc: 0.9387\n",
      "Epoch 10/50\n",
      "6400/6400 [==============================] - 3s 425us/step - loss: 0.1647 - acc: 0.9447 - val_loss: 0.1934 - val_acc: 0.9450\n",
      "Epoch 11/50\n",
      "6400/6400 [==============================] - 3s 473us/step - loss: 0.1472 - acc: 0.9514 - val_loss: 0.1762 - val_acc: 0.9412\n",
      "Epoch 12/50\n",
      "6400/6400 [==============================] - 3s 538us/step - loss: 0.1366 - acc: 0.9552 - val_loss: 0.1954 - val_acc: 0.9319\n",
      "Epoch 13/50\n",
      "6400/6400 [==============================] - 3s 480us/step - loss: 0.1261 - acc: 0.9591 - val_loss: 0.1750 - val_acc: 0.9475\n",
      "Epoch 14/50\n",
      "6400/6400 [==============================] - 3s 454us/step - loss: 0.1231 - acc: 0.9595 - val_loss: 0.1722 - val_acc: 0.9525\n",
      "Epoch 15/50\n",
      "6400/6400 [==============================] - 3s 497us/step - loss: 0.1247 - acc: 0.9566 - val_loss: 0.1693 - val_acc: 0.9469\n",
      "Epoch 16/50\n",
      "6400/6400 [==============================] - 3s 408us/step - loss: 0.0995 - acc: 0.9664 - val_loss: 0.1916 - val_acc: 0.9444\n",
      "Epoch 17/50\n",
      "6400/6400 [==============================] - 3s 408us/step - loss: 0.1045 - acc: 0.9645 - val_loss: 0.1872 - val_acc: 0.9487\n",
      "Epoch 18/50\n",
      "6400/6400 [==============================] - 3s 413us/step - loss: 0.1011 - acc: 0.9664 - val_loss: 0.1960 - val_acc: 0.9462\n",
      "Epoch 19/50\n",
      "6400/6400 [==============================] - 4s 549us/step - loss: 0.1056 - acc: 0.9658 - val_loss: 0.1720 - val_acc: 0.9475\n",
      "Epoch 20/50\n",
      "6400/6400 [==============================] - 3s 462us/step - loss: 0.0958 - acc: 0.9702 - val_loss: 0.1643 - val_acc: 0.9512\n",
      "Epoch 21/50\n",
      "6400/6400 [==============================] - 3s 426us/step - loss: 0.0880 - acc: 0.9698 - val_loss: 0.1850 - val_acc: 0.9506\n",
      "Epoch 22/50\n",
      "6400/6400 [==============================] - 3s 435us/step - loss: 0.0890 - acc: 0.9702 - val_loss: 0.2094 - val_acc: 0.9437\n",
      "Epoch 23/50\n",
      "6400/6400 [==============================] - 3s 463us/step - loss: 0.0880 - acc: 0.9700 - val_loss: 0.2029 - val_acc: 0.9456\n",
      "Epoch 24/50\n",
      "6400/6400 [==============================] - 3s 476us/step - loss: 0.0964 - acc: 0.9680 - val_loss: 0.1773 - val_acc: 0.9519\n",
      "Epoch 25/50\n",
      "6400/6400 [==============================] - 4s 573us/step - loss: 0.0766 - acc: 0.9748 - val_loss: 0.2088 - val_acc: 0.9469\n",
      "Epoch 26/50\n",
      "6400/6400 [==============================] - 3s 433us/step - loss: 0.0859 - acc: 0.9723 - val_loss: 0.2183 - val_acc: 0.9437\n",
      "Epoch 27/50\n",
      "6400/6400 [==============================] - 3s 454us/step - loss: 0.0841 - acc: 0.9720 - val_loss: 0.1837 - val_acc: 0.9481\n",
      "Epoch 28/50\n",
      "6400/6400 [==============================] - 3s 414us/step - loss: 0.0810 - acc: 0.9762 - val_loss: 0.1849 - val_acc: 0.9469\n",
      "Epoch 29/50\n",
      "6400/6400 [==============================] - 3s 409us/step - loss: 0.0782 - acc: 0.9741 - val_loss: 0.2022 - val_acc: 0.9481\n",
      "Epoch 30/50\n",
      "6400/6400 [==============================] - 3s 431us/step - loss: 0.0663 - acc: 0.9789 - val_loss: 0.1934 - val_acc: 0.9550\n",
      "Epoch 31/50\n",
      "6400/6400 [==============================] - 3s 438us/step - loss: 0.0747 - acc: 0.9748 - val_loss: 0.1920 - val_acc: 0.9562\n",
      "Epoch 32/50\n",
      "6400/6400 [==============================] - 3s 407us/step - loss: 0.0625 - acc: 0.9780 - val_loss: 0.1948 - val_acc: 0.9550\n",
      "Epoch 33/50\n",
      "6400/6400 [==============================] - 3s 437us/step - loss: 0.0699 - acc: 0.9755 - val_loss: 0.1905 - val_acc: 0.9537\n",
      "Epoch 34/50\n",
      "6400/6400 [==============================] - 3s 483us/step - loss: 0.0846 - acc: 0.9739 - val_loss: 0.1722 - val_acc: 0.9537\n",
      "Epoch 35/50\n",
      "6400/6400 [==============================] - 3s 438us/step - loss: 0.0691 - acc: 0.9772 - val_loss: 0.1806 - val_acc: 0.9506\n",
      "Epoch 36/50\n",
      "6400/6400 [==============================] - 3s 432us/step - loss: 0.0599 - acc: 0.9805 - val_loss: 0.1991 - val_acc: 0.9487\n",
      "Epoch 37/50\n",
      "6400/6400 [==============================] - 4s 570us/step - loss: 0.0705 - acc: 0.9758 - val_loss: 0.1863 - val_acc: 0.9562\n",
      "Epoch 38/50\n",
      "6400/6400 [==============================] - 3s 463us/step - loss: 0.0652 - acc: 0.9795 - val_loss: 0.1851 - val_acc: 0.9537\n",
      "Epoch 39/50\n",
      "6400/6400 [==============================] - 3s 483us/step - loss: 0.0639 - acc: 0.9800 - val_loss: 0.2248 - val_acc: 0.9462\n",
      "Epoch 40/50\n",
      "6400/6400 [==============================] - 3s 477us/step - loss: 0.0673 - acc: 0.9786 - val_loss: 0.1860 - val_acc: 0.9544\n",
      "Epoch 41/50\n",
      "6400/6400 [==============================] - 3s 462us/step - loss: 0.0537 - acc: 0.9816 - val_loss: 0.1962 - val_acc: 0.9556\n",
      "Epoch 42/50\n",
      "6400/6400 [==============================] - 3s 462us/step - loss: 0.0828 - acc: 0.9772 - val_loss: 0.1961 - val_acc: 0.9550\n",
      "Epoch 43/50\n",
      "6400/6400 [==============================] - 3s 448us/step - loss: 0.0641 - acc: 0.9786 - val_loss: 0.1936 - val_acc: 0.9531\n",
      "Epoch 44/50\n",
      "6400/6400 [==============================] - 3s 469us/step - loss: 0.0665 - acc: 0.9767 - val_loss: 0.2087 - val_acc: 0.9519\n",
      "Epoch 45/50\n",
      "6400/6400 [==============================] - 3s 467us/step - loss: 0.0563 - acc: 0.9817 - val_loss: 0.1829 - val_acc: 0.9600\n",
      "Epoch 46/50\n",
      "6400/6400 [==============================] - 4s 551us/step - loss: 0.0600 - acc: 0.9814 - val_loss: 0.2001 - val_acc: 0.9550\n",
      "Epoch 47/50\n",
      "6400/6400 [==============================] - 3s 449us/step - loss: 0.0533 - acc: 0.9825 - val_loss: 0.1918 - val_acc: 0.9544\n",
      "Epoch 48/50\n",
      "6400/6400 [==============================] - 3s 430us/step - loss: 0.0524 - acc: 0.9820 - val_loss: 0.2054 - val_acc: 0.9550\n",
      "Epoch 49/50\n",
      "6400/6400 [==============================] - 3s 446us/step - loss: 0.0592 - acc: 0.9808 - val_loss: 0.2156 - val_acc: 0.9531\n",
      "Epoch 50/50\n",
      "6400/6400 [==============================] - 3s 433us/step - loss: 0.0491 - acc: 0.9845 - val_loss: 0.1891 - val_acc: 0.9556\n"
     ]
    },
    {
     "data": {
      "text/plain": [
       "<keras.callbacks.History at 0x11e041240>"
      ]
     },
     "execution_count": 13,
     "metadata": {},
     "output_type": "execute_result"
    }
   ],
   "source": [
    "# define sequential CNN model\n",
    "model2 = Sequential()\n",
    "e = Embedding(vocab_size, 50, weights=[embedding_matrix], input_length=max_length, trainable=False)\n",
    "model2.add(e)\n",
    "model2.add(Dropout(0.2))\n",
    "model2.add(Conv1D(64,3,padding='valid',activation='relu',strides=1))\n",
    "model2.add(GlobalMaxPooling1D())\n",
    "model2.add(Dense(256))\n",
    "model2.add(Dropout(0.2))\n",
    "model2.add(Activation('relu'))\n",
    "model2.add(Dense(8))\n",
    "model2.add(Activation('softmax'))\n",
    "# compile the model\n",
    "model2.compile(optimizer='adam', loss='categorical_crossentropy', metrics=['acc'])\n",
    "# summarize the model\n",
    "print(model2.summary())\n",
    "\n",
    "#train -test split- split into 80% for train and 20% for test\n",
    "X_train, X_test, y_train, y_test = train_test_split(padded_docs, labels, test_size=0.20,\n",
    "                                                    random_state=5678, stratify =labels)\n",
    "# create model\n",
    "\n",
    "# fit the model\n",
    "model2.fit(X_train, y_train, epochs=50,batch_size = 10,validation_data=(X_test,y_test))"
   ]
  },
  {
   "cell_type": "markdown",
   "metadata": {},
   "source": [
    "## Model 3- LSTM with convolution\n",
    "- Hyperparameter Tuning - - Using Grid search CV\n",
    "- stratified K fold"
   ]
  },
  {
   "cell_type": "code",
   "execution_count": 4,
   "metadata": {},
   "outputs": [],
   "source": [
    "# Function to create model, required for KerasClassifier\n",
    "def create_model(optimizer = \"Adam\"):\n",
    "    model3 = Sequential()\n",
    "    model3.add(Embedding(vocab_size,10,input_length=max_length))\n",
    "    model3.add(Dropout(0.2))\n",
    "    model3.add(Conv1D(64,3,padding='valid',activation='relu',strides=1))\n",
    "    model3.add(MaxPooling1D(pool_size =2, strides =1))\n",
    "    model3.add(LSTM(100,return_sequences=True))\n",
    "    model3.add(Flatten())\n",
    "    model3.add(Dropout(0.2))\n",
    "    model3.add(Dense(256, activation = 'relu'))\n",
    "    model3.add(Dropout(0.2))\n",
    "    model3.add(Dense(8, activation = 'softmax'))\n",
    "    # compile the model\n",
    "#     optimizer = optimizer(lr = learn_rate)\n",
    "    model3.compile(optimizer=optimizer, loss='categorical_crossentropy', metrics=['acc'])\n",
    "    return model3"
   ]
  },
  {
   "cell_type": "markdown",
   "metadata": {},
   "source": [
    "##### Tuning optimizer, batch size, epochs, learning rate"
   ]
  },
  {
   "cell_type": "code",
   "execution_count": 5,
   "metadata": {},
   "outputs": [],
   "source": [
    "# call model\n",
    "model = KerasClassifier(build_fn=create_model, verbose=0)\n",
    "\n",
    "# define the grid search parameters\n",
    "batch_size = [10,20]\n",
    "epochs = [10,30]\n",
    "optimizer = ['SGD', 'Adam']\n",
    "\n",
    "param_grid = dict(batch_size=batch_size, epochs=epochs, optimizer = optimizer)\n",
    "\n",
    "# evaluate using 3-fold stratified cross validation\n",
    "grid = GridSearchCV(estimator=model, param_grid=param_grid, n_jobs=-1 )\n",
    "grid_result = grid.fit(padded_docs, labels)"
   ]
  },
  {
   "cell_type": "code",
   "execution_count": 6,
   "metadata": {},
   "outputs": [
    {
     "name": "stdout",
     "output_type": "stream",
     "text": [
      "Best: 0.26687499888427557 using {'batch_size': 10, 'epochs': 10, 'optimizer': 'Adam'} \n",
      "\n",
      "\n",
      "0.022125000355765225 (0.02148269431754405) with: {'batch_size': 10, 'epochs': 10, 'optimizer': 'SGD'}\n",
      "0.26687499888427557 (0.03502305082875849) with: {'batch_size': 10, 'epochs': 10, 'optimizer': 'Adam'}\n",
      "0.1617500007636845 (0.016737052708153538) with: {'batch_size': 10, 'epochs': 30, 'optimizer': 'SGD'}\n",
      "0.2581249985676259 (0.03038302724473645) with: {'batch_size': 10, 'epochs': 30, 'optimizer': 'Adam'}\n",
      "0.0015000000223517418 (0.0021211215169199705) with: {'batch_size': 20, 'epochs': 10, 'optimizer': 'SGD'}\n",
      "0.2481249985396862 (0.013569146204529531) with: {'batch_size': 20, 'epochs': 10, 'optimizer': 'Adam'}\n",
      "0.0655000000409782 (0.07949717278247921) with: {'batch_size': 20, 'epochs': 30, 'optimizer': 'SGD'}\n",
      "0.254749998992309 (0.01773504950114837) with: {'batch_size': 20, 'epochs': 30, 'optimizer': 'Adam'}\n"
     ]
    }
   ],
   "source": [
    "# summarize results\n",
    "\n",
    "print(\"Best: {0} using {1} \\n\\n\".format(grid_result.best_score_, grid_result.best_params_))\n",
    "means = grid_result.cv_results_['mean_test_score']\n",
    "stds = grid_result.cv_results_['std_test_score']\n",
    "params = grid_result.cv_results_['params']\n",
    "for mean, stdev, param in zip(means, stds, params):\n",
    "    print(\"{0} ({1}) with: {2}\".format(mean, stdev, param))"
   ]
  },
  {
   "cell_type": "code",
   "execution_count": null,
   "metadata": {},
   "outputs": [],
   "source": []
  }
 ],
 "metadata": {
  "kernelspec": {
   "display_name": "Python 3",
   "language": "python",
   "name": "python3"
  },
  "language_info": {
   "codemirror_mode": {
    "name": "ipython",
    "version": 3
   },
   "file_extension": ".py",
   "mimetype": "text/x-python",
   "name": "python",
   "nbconvert_exporter": "python",
   "pygments_lexer": "ipython3",
   "version": "3.6.5"
  }
 },
 "nbformat": 4,
 "nbformat_minor": 2
}
